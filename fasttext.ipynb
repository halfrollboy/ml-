{
 "cells": [
  {
   "attachments": {},
   "cell_type": "markdown",
   "metadata": {},
   "source": [
    "ПОДГОТАВЛИВАЕМ ДАННЫЕ"
   ]
  },
  {
   "cell_type": "code",
   "execution_count": 1,
   "metadata": {},
   "outputs": [
    {
     "name": "stderr",
     "output_type": "stream",
     "text": [
      "[nltk_data] Downloading package stopwords to\n",
      "[nltk_data]     /Users/taranyuriy/nltk_data...\n",
      "[nltk_data]   Package stopwords is already up-to-date!\n"
     ]
    }
   ],
   "source": [
    "from collections import Counter\n",
    "import pandas as pd\n",
    "import nltk\n",
    "from nltk.corpus import stopwords\n",
    "from sklearn.utils import shuffle\n",
    "\n",
    "nltk.download('stopwords')\n",
    "\n",
    "stop = set(stopwords.words(\"russian\"))\n",
    "\n",
    "def remove_stop_words(text):\n",
    "    text = [word.lower() for word in text.split() if word.lower() not in stop]\n",
    "    return \" \".join(text)\n",
    "\n",
    "messages = pd.read_csv(\"messages.csv\", encoding=\"utf-8\")\n",
    "messages = messages[[\"id\", \"text\"]]\n",
    "messages.head()\n",
    "\n",
    "labels = pd.read_csv(\"labels.csv\", encoding=\"utf-8\")\n",
    "labels = labels[[\"id\",\"label\"]]\n",
    "# labels['label'] = labels['label'].map({'other': 0, 'task': 1, 'event':2})\n",
    "# print(labels.head())\n",
    "messages[\"label\"] = labels[\"label\"].values\n",
    "\n",
    "df_task = messages[messages[\"label\"]==\"task\"]\n",
    "df_task.shape\n",
    "\n",
    "df_event = messages[messages[\"label\"]==\"event\"]\n",
    "df_event.shape\n",
    "\n",
    "df_other = messages[messages[\"label\"]==\"other\"]\n",
    "df_other.shape\n",
    "\n",
    "df_event_sample = df_event.sample(df_task.shape[0])\n",
    "df_event_sample.shape\n",
    "\n",
    "df_other_sample = df_other.sample(df_task.shape[0])\n",
    "df_other_sample.shape\n",
    "\n",
    "df_balanced = pd.concat([df_event_sample, df_other_sample,df_task])\n",
    "df_balanced.shape\n",
    "df_balanced[\"label\"].value_counts()\n",
    "\n",
    "messages = df_balanced\n",
    "\n",
    "\n",
    "messages[\"text\"] = messages[\"text\"].map(remove_stop_words)\n",
    "labels[\"label\"] = \"__label__\" + labels[\"label\"].astype(str)\n",
    "messages[\"message_label\"] = labels[\"label\"] + \" \" + messages[\"text\"]\n",
    "messages = shuffle(messages)\n"
   ]
  },
  {
   "attachments": {},
   "cell_type": "markdown",
   "metadata": {},
   "source": [
    "СОЗДАЁМ МОДЕЛЬ"
   ]
  },
  {
   "cell_type": "code",
   "execution_count": 39,
   "metadata": {},
   "outputs": [],
   "source": [
    "from sklearn.model_selection import train_test_split\n",
    "\n",
    "train, test =  train_test_split(messages, test_size=0.3)"
   ]
  },
  {
   "attachments": {},
   "cell_type": "markdown",
   "metadata": {},
   "source": [
    "ЗАЧЕМ-ТО СОХРАНЯЕМ В ФАЙЛ CSV"
   ]
  },
  {
   "cell_type": "code",
   "execution_count": 46,
   "metadata": {},
   "outputs": [],
   "source": [
    "train.to_csv(\"messages.train\",columns=[\"message_label\"],index=False, header=False)\n",
    "test.to_csv(\"messages.test\",columns=[\"message_label\"],index=False, header=False)\n"
   ]
  },
  {
   "cell_type": "code",
   "execution_count": 1,
   "metadata": {},
   "outputs": [
    {
     "ename": "AttributeError",
     "evalue": "module 'fasttext' has no attribute 'util'",
     "output_type": "error",
     "traceback": [
      "\u001b[0;31m---------------------------------------------------------------------------\u001b[0m",
      "\u001b[0;31mAttributeError\u001b[0m                            Traceback (most recent call last)",
      "Cell \u001b[0;32mIn[1], line 4\u001b[0m\n\u001b[1;32m      1\u001b[0m \u001b[39mimport\u001b[39;00m \u001b[39mfasttext\u001b[39;00m\n\u001b[1;32m      2\u001b[0m \u001b[39m# from sklearn.metrics import roc_auc_score\u001b[39;00m\n\u001b[0;32m----> 4\u001b[0m fasttext\u001b[39m.\u001b[39;49mutil\u001b[39m.\u001b[39mdownload_model(\u001b[39m'\u001b[39m\u001b[39mru\u001b[39m\u001b[39m'\u001b[39m, if_exists\u001b[39m=\u001b[39m\u001b[39m'\u001b[39m\u001b[39mignore\u001b[39m\u001b[39m'\u001b[39m)\n\u001b[1;32m      5\u001b[0m model \u001b[39m=\u001b[39m fasttext\u001b[39m.\u001b[39mtrain_supervised(\u001b[39minput\u001b[39m\u001b[39m=\u001b[39m\u001b[39m\"\u001b[39m\u001b[39mmessages.train\u001b[39m\u001b[39m\"\u001b[39m,epoch\u001b[39m=\u001b[39m\u001b[39m10\u001b[39m, lr\u001b[39m=\u001b[39m\u001b[39m1.0\u001b[39m)\n\u001b[1;32m      6\u001b[0m model\u001b[39m.\u001b[39mtest(\u001b[39m\"\u001b[39m\u001b[39mmessages.test\u001b[39m\u001b[39m\"\u001b[39m)\n",
      "\u001b[0;31mAttributeError\u001b[0m: module 'fasttext' has no attribute 'util'"
     ]
    }
   ],
   "source": [
    "import fasttext\n",
    "import fasttext.util\n",
    "# from sklearn.metrics import roc_auc_score\n",
    "\n",
    "fasttext.util.download_model('ru', if_exists='ignore')\n",
    "model = fasttext.train_supervised(input=\"messages.train\",epoch=10, lr=1.0)\n",
    "model.test(\"messages.test\")\n",
    "# model.predict(\"отправь мне почту завтра в 19:00\")"
   ]
  },
  {
   "cell_type": "code",
   "execution_count": 52,
   "metadata": {},
   "outputs": [
    {
     "data": {
      "text/plain": [
       "(('__label__other',), array([0.99999869]))"
      ]
     },
     "execution_count": 52,
     "metadata": {},
     "output_type": "execute_result"
    }
   ],
   "source": [
    "model.predict(\"Пришли мне 17.01 твою выпускную работу\")"
   ]
  },
  {
   "cell_type": "code",
   "execution_count": null,
   "metadata": {},
   "outputs": [],
   "source": []
  }
 ],
 "metadata": {
  "kernelspec": {
   "display_name": ".venv",
   "language": "python",
   "name": "python3"
  },
  "language_info": {
   "codemirror_mode": {
    "name": "ipython",
    "version": 3
   },
   "file_extension": ".py",
   "mimetype": "text/x-python",
   "name": "python",
   "nbconvert_exporter": "python",
   "pygments_lexer": "ipython3",
   "version": "3.10.11"
  },
  "orig_nbformat": 4
 },
 "nbformat": 4,
 "nbformat_minor": 2
}
